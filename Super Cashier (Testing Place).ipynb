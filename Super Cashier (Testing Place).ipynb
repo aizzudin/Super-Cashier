{
 "cells": [
  {
   "cell_type": "code",
   "execution_count": 1,
   "metadata": {},
   "outputs": [],
   "source": [
    "import numpy as np\n",
    "import pandas as pd\n",
    "\n",
    "class Transactions(dict):\n",
    "    def __init__(self):\n",
    "        self = dict()\n",
    "        \n",
    "    def add_item(self, nama_item, jumlah_item, harga_item):\n",
    "        '''\n",
    "        Menambahkan item kedalam transaksi\n",
    "        '''\n",
    "        \n",
    "        # Declare valriable\n",
    "        self.nama_item = nama_item\n",
    "        self.jumlah_item = jumlah_item\n",
    "        self.harga_item = harga_item\n",
    "        \n",
    "        # Assign variables into dictionary\n",
    "        self[nama_item] = [jumlah_item, harga_item]\n",
    "        \n",
    "        return f'Item yang dibeli adalah: {self}'\n",
    "                    \n",
    "\n",
    "    def update_item_name(self, nama_item, nama_item_baru):\n",
    "        '''\n",
    "        Memperbaharui nama item yang telah diinput\n",
    "        '''\n",
    "        \n",
    "        # Declare valriable\n",
    "        self.nama_item = nama_item\n",
    "        self.nama_item_baru = nama_item_baru\n",
    "        \n",
    "        # Copy new dictionary from old one\n",
    "        self[nama_item_baru] = self[nama_item]\n",
    "        \n",
    "        # Delete the old one\n",
    "        del self[nama_item]\n",
    "        \n",
    "        return f'Item yang dibeli adalah: {self}'\n",
    "\n",
    "\n",
    "        \n",
    "    def update_item_qty(self, nama_item, jumlah_item_baru):\n",
    "        '''\n",
    "        Memperbaharui jumlah item yang telah diinput\n",
    "        '''\n",
    "        \n",
    "        # Deklarasi variabel\n",
    "        self.nama_item = nama_item\n",
    "        self.jumlah_item_baru = jumlah_item_baru\n",
    "        \n",
    "        # Ganti value jumlah dari nama item terpilih\n",
    "        self[nama_item][0] = jumlah_item_baru\n",
    "        \n",
    "        return f'Item yang dibeli adalah: {self}'\n",
    "        \n",
    "        \n",
    "    def update_item_price(self, nama_item, harga_item_baru):\n",
    "        '''\n",
    "        Memperbaharui harga item yang telah diinput\n",
    "        '''\n",
    "        # Deklarasi variabel\n",
    "        self.nama_item = nama_item\n",
    "        self.harga_item_baru = harga_item_baru\n",
    "        \n",
    "        # Ganti value harga dari nama item terpilih\n",
    "        self[nama_item][1] = harga_item_baru\n",
    "        \n",
    "        return f'Item yang dibeli adalah: {self}'\n",
    "        \n",
    "        \n",
    "    def delete_item(self, nama_item):\n",
    "        '''\n",
    "        Menghapus sebuah item yang telah diinput\n",
    "        '''\n",
    "        \n",
    "        # Deklarasi variabel\n",
    "        self.nama_item = nama_item\n",
    "        \n",
    "        # Menghapus key:value dalam dictionary\n",
    "        del self[nama_item]\n",
    "        \n",
    "        return f'Item yang dibeli adalah: {self}'\n",
    "        \n",
    "        \n",
    "    def reset_transaction(self):\n",
    "        '''\n",
    "        Menghapus seluruh item yang telah diinput\n",
    "        '''\n",
    "        \n",
    "        # Hapus seluruh dictionary\n",
    "        self.clear()\n",
    "        \n",
    "        return 'Semua item berhasil didelete!'\n",
    "    \n",
    "    def check_order(self):\n",
    "        '''\n",
    "        Menampilkan tabel yang berisi seluruh item yang telah dibeli.\n",
    "        Kolom pada tabel berupa Nama Item, Jumlah Item, Harga Barang, Total Harga.\n",
    "        '''\n",
    "        \n",
    "        # Deklarasi checker yang akan berubah ketika ada kesalahan\n",
    "        checker = True\n",
    "        \n",
    "        # Cek eksistensi kesalahan input dari user\n",
    "        for item in self:\n",
    "            if len(self[item]) == 2 and item != np.nan:\n",
    "                pass\n",
    "            else:\n",
    "                checker = False\n",
    "        \n",
    "        # Tampilkan message berdasarkan hasil cek\n",
    "        if checker:\n",
    "            print('Pemesanan sudah benar')\n",
    "        else:\n",
    "            print('Terdapat kesalahan')\n",
    "        \n",
    "        # Konstruksi tabel hasil untuk ditampilkan\n",
    "        table = pd.DataFrame(self).T.reset_index()\n",
    "        table = table.rename(columns={'index': 'Nama Item', 0: 'Jumlah Item', 1: 'Harga Barang'})\n",
    "        table.index = np.arange(1, len(table) + 1)\n",
    "        table['Total Harga'] = table['Jumlah Item'] * table['Harga Barang']\n",
    "        \n",
    "        return table\n",
    "    \n",
    "    def total_price(self):\n",
    "        '''\n",
    "        Menampilkan total keseluruhan biaya yang harus dibayarkan setelah diskon.\n",
    "        Diskon 5% apabila total biaya diatas Rp 200.000\n",
    "        Diskon 8% apabila total biaya diatas Rp 300.000\n",
    "        Diskon 10% apabila total biaya diatas Rp 500.000\n",
    "        '''\n",
    "        \n",
    "        # Konstruksi tabel dari dictionary\n",
    "        table = pd.DataFrame(self).T.reset_index()\n",
    "        table = table.rename(columns={'index': 'Nama Item', 0: 'Jumlah Item', 1: 'Harga Barang'})\n",
    "        table.index = np.arange(1, len(table) + 1)\n",
    "        \n",
    "        # Hitung Total Harga dari jumlah item x harga item\n",
    "        table['Total Harga'] = table['Jumlah Item'] * table['Harga Barang']\n",
    "        \n",
    "        # Jumlahkan kolom Total Harga\n",
    "        bayar = table['Total Harga'].sum()\n",
    "        \n",
    "        # Penerapan diskon terhadap total harga\n",
    "        if bayar < 200000:\n",
    "            pass\n",
    "        elif bayar < 300001:\n",
    "            bayar = int(bayar*0.95)\n",
    "        elif bayar < 500001:\n",
    "            bayar = int(bayar*0.92)\n",
    "        else:\n",
    "            bayar = int(bayar*0.90)\n",
    "        \n",
    "        return bayar"
   ]
  },
  {
   "cell_type": "code",
   "execution_count": 2,
   "metadata": {},
   "outputs": [
    {
     "data": {
      "text/plain": [
       "\"Item yang dibeli adalah: {'Ayam Goreng': [2, 20000], 'Pasta Gigi': [3, 15000]}\""
      ]
     },
     "execution_count": 2,
     "metadata": {},
     "output_type": "execute_result"
    }
   ],
   "source": [
    "# Test 1\n",
    "t_1 = Transactions()\n",
    "t_1.add_item('Ayam Goreng', 2, 20000)\n",
    "t_1.add_item('Pasta Gigi', 3, 15000)"
   ]
  },
  {
   "cell_type": "code",
   "execution_count": 3,
   "metadata": {},
   "outputs": [
    {
     "data": {
      "text/plain": [
       "\"Item yang dibeli adalah: {'Ayam Goreng': [2, 20000]}\""
      ]
     },
     "execution_count": 3,
     "metadata": {},
     "output_type": "execute_result"
    }
   ],
   "source": [
    "# Test 2\n",
    "t_1.delete_item('Pasta Gigi')"
   ]
  },
  {
   "cell_type": "code",
   "execution_count": 4,
   "metadata": {},
   "outputs": [
    {
     "data": {
      "text/plain": [
       "'Semua item berhasil didelete!'"
      ]
     },
     "execution_count": 4,
     "metadata": {},
     "output_type": "execute_result"
    }
   ],
   "source": [
    "# Test 3\n",
    "t_1.reset_transaction()"
   ]
  },
  {
   "cell_type": "code",
   "execution_count": 5,
   "metadata": {},
   "outputs": [
    {
     "data": {
      "text/plain": [
       "285000"
      ]
     },
     "execution_count": 5,
     "metadata": {},
     "output_type": "execute_result"
    }
   ],
   "source": [
    "# Test 4\n",
    "t_1.add_item('Ayam Goreng', 2, 20000)\n",
    "t_1.add_item('Pasta Gigi', 3, 15000)\n",
    "t_1.add_item('Mainan Mobil', 1, 200000)\n",
    "t_1.add_item('Mi Instan', 5, 3000)\n",
    "\n",
    "t_1.total_price()"
   ]
  }
 ],
 "metadata": {
  "kernelspec": {
   "display_name": "Python 3",
   "language": "python",
   "name": "python3"
  },
  "language_info": {
   "codemirror_mode": {
    "name": "ipython",
    "version": 3
   },
   "file_extension": ".py",
   "mimetype": "text/x-python",
   "name": "python",
   "nbconvert_exporter": "python",
   "pygments_lexer": "ipython3",
   "version": "3.8.5"
  }
 },
 "nbformat": 4,
 "nbformat_minor": 4
}
